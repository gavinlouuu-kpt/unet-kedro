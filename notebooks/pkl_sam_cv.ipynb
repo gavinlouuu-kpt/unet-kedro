{
 "cells": [
  {
   "cell_type": "code",
   "execution_count": 1,
   "metadata": {},
   "outputs": [],
   "source": [
    "from kedro.io import DataCatalog\n",
    "import yaml\n",
    "import logging\n",
    "\n",
    "logger = logging.getLogger(__name__)\n",
    "\n",
    "with open(\"catalog.yml\") as f:\n",
    "    conf_catalog = yaml.safe_load(f)\n",
    "\n",
    "catalog = DataCatalog.from_config(conf_catalog)\n",
    "paa_12_sam = catalog.load(\"paa_12_sam\") # list\n",
    "# paa_10_sam = catalog.load(\"paa_10_sam\")\n",
    "# paa_8_sam = catalog.load(\"paa_8_sam\")\n",
    "paa_12_cv = catalog.load(\"paa_12_cv\") # dict\n",
    "# paa_10_cv = catalog.load(\"paa_10_cv\")\n",
    "# paa_8_cv = catalog.load(\"paa_8_cv\")\n"
   ]
  },
  {
   "cell_type": "code",
   "execution_count": 2,
   "metadata": {},
   "outputs": [
    {
     "name": "stdout",
     "output_type": "stream",
     "text": [
      "type(paa_12_sam): <class 'list'>\n",
      "type(paa_12_cv): <class 'dict'>\n"
     ]
    }
   ],
   "source": [
    "print(f\"type(paa_12_sam): {type(paa_12_sam)}\")\n",
    "print(f\"type(paa_12_cv): {type(paa_12_cv)}\")\n"
   ]
  },
  {
   "cell_type": "code",
   "execution_count": 4,
   "metadata": {},
   "outputs": [
    {
     "data": {
      "image/png": "[encoded data removed]",
      "text/plain": [
       "<Figure size 640x480 with 1 Axes>"
      ]
     },
     "metadata": {},
     "output_type": "display_data"
    }
   ],
   "source": [
    "import matplotlib.pyplot as plt\n",
    "\n",
    "def show_first_sample_image(paa_12_cv):\n",
    "    \"\"\"\n",
    "    Displays the first sample image from the paa_12_cv dictionary.\n",
    "    \n",
    "    Parameters:\n",
    "    paa_12_cv (dict): Dictionary containing image data.\n",
    "    \"\"\"\n",
    "    if paa_12_cv:\n",
    "        first_key = next(iter(paa_12_cv))\n",
    "        image = paa_12_cv[first_key]\n",
    "        plt.imshow(image, cmap='gray')\n",
    "        plt.title(f\"Sample Image: {first_key}\")\n",
    "        plt.axis('off')\n",
    "        plt.show()\n",
    "    else:\n",
    "        print(\"The dictionary is empty.\")\n",
    "\n",
    "# Example usage:\n",
    "show_first_sample_image(paa_12_cv)"
   ]
  },
  {
   "cell_type": "code",
   "execution_count": 6,
   "metadata": {},
   "outputs": [
    {
     "name": "stdout",
     "output_type": "stream",
     "text": [
      "First 5 elements in paa_12_sam:\n",
      "Element 0: <class 'dict'>, shape: N/A\n",
      "Element 1: <class 'dict'>, shape: N/A\n",
      "Element 2: <class 'dict'>, shape: N/A\n",
      "Element 3: <class 'dict'>, shape: N/A\n",
      "Element 4: <class 'dict'>, shape: N/A\n"
     ]
    }
   ],
   "source": [
    "def inspect_list(paa_12_sam, num_elements=5):\n",
    "    \"\"\"\n",
    "    Prints the first few elements of the paa_12_sam list.\n",
    "    \n",
    "    Parameters:\n",
    "    paa_12_sam (list): List containing image data.\n",
    "    num_elements (int): Number of elements to print. Default is 5.\n",
    "    \"\"\"\n",
    "    if paa_12_sam:\n",
    "        print(f\"First {num_elements} elements in paa_12_sam:\")\n",
    "        for i, element in enumerate(paa_12_sam[:num_elements]):\n",
    "            print(f\"Element {i}: {type(element)}, shape: {getattr(element, 'shape', 'N/A')}\")\n",
    "    else:\n",
    "        print(\"The list is empty.\")\n",
    "\n",
    "# Example usage:\n",
    "inspect_list(paa_12_sam)"
   ]
  },
  {
   "cell_type": "code",
   "execution_count": 11,
   "metadata": {},
   "outputs": [
    {
     "name": "stdout",
     "output_type": "stream",
     "text": [
      "Key: original_image, Type: <class 'torch.Tensor'>\n",
      "Key: masks, Type: <class 'list'>\n",
      "  Index: 0, Type: <class 'torch.Tensor'>\n"
     ]
    }
   ],
   "source": [
    "def print_recursive_keys(d, indent=0):\n",
    "    \"\"\"\n",
    "    Recursively prints the keys and types of a dictionary or list.\n",
    "    \n",
    "    Parameters:\n",
    "    d (dict or list): The dictionary or list to inspect.\n",
    "    indent (int): The current indentation level (used for nested structures).\n",
    "    \"\"\"\n",
    "    if isinstance(d, dict):\n",
    "        for key, value in d.items():\n",
    "            print(' ' * indent + f\"Key: {key}, Type: {type(value)}\")\n",
    "            if isinstance(value, (dict, list)):\n",
    "                print_recursive_keys(value, indent + 2)\n",
    "    elif isinstance(d, list):\n",
    "        for i, value in enumerate(d):\n",
    "            print(' ' * indent + f\"Index: {i}, Type: {type(value)}\")\n",
    "            if isinstance(value, (dict, list)):\n",
    "                print_recursive_keys(value, indent + 2)\n",
    "\n",
    "# Example usage:\n",
    "print_recursive_keys(paa_12_sam[2])"
   ]
  },
  {
   "cell_type": "code",
   "execution_count": null,
   "metadata": {},
   "outputs": [],
   "source": []
  }
 ],
 "metadata": {
  "kernelspec": {
   "display_name": "sam-kedro",
   "language": "python",
   "name": "python3"
  },
  "language_info": {
   "codemirror_mode": {
    "name": "ipython",
    "version": 3
   },
   "file_extension": ".py",
   "mimetype": "text/x-python",
   "name": "python",
   "nbconvert_exporter": "python",
   "pygments_lexer": "ipython3",
   "version": "3.10.15"
  }
 },
 "nbformat": 4,
 "nbformat_minor": 2
}
