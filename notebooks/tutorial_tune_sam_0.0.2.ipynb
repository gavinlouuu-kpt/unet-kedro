{
 "cells": [
  {
   "cell_type": "code",
   "execution_count": 116,
   "metadata": {},
   "outputs": [
    {
     "data": {
      "text/html": [
       "<pre style=\"white-space:pre;overflow-x:auto;line-height:normal;font-family:Menlo,'DejaVu Sans Mono',consolas,'Courier New',monospace\"><span style=\"color: #7fbfbf; text-decoration-color: #7fbfbf\">[11/27/24 12:52:34] </span><span style=\"color: #000080; text-decoration-color: #000080\">INFO    </span> Loading data from <span style=\"color: #ff8700; text-decoration-color: #ff8700\">paa_12_image</span> <span style=\"font-weight: bold\">(</span>PartitionedDataset<span style=\"font-weight: bold\">)</span><span style=\"color: #808000; text-decoration-color: #808000\">...</span>             <a href=\"file://c:\\Users\\gavin\\anaconda3\\envs\\sam-kedro\\lib\\site-packages\\kedro\\io\\data_catalog.py\" target=\"_blank\"><span style=\"color: #7f7f7f; text-decoration-color: #7f7f7f\">data_catalog.py</span></a><span style=\"color: #7f7f7f; text-decoration-color: #7f7f7f\">:</span><a href=\"file://c:\\Users\\gavin\\anaconda3\\envs\\sam-kedro\\lib\\site-packages\\kedro\\io\\data_catalog.py#389\" target=\"_blank\"><span style=\"color: #7f7f7f; text-decoration-color: #7f7f7f\">389</span></a>\n",
       "</pre>\n"
      ],
      "text/plain": [
       "\u001b[2;36m[11/27/24 12:52:34]\u001b[0m\u001b[2;36m \u001b[0m\u001b[34mINFO    \u001b[0m Loading data from \u001b[38;5;208mpaa_12_image\u001b[0m \u001b[1m(\u001b[0mPartitionedDataset\u001b[1m)\u001b[0m\u001b[33m...\u001b[0m             \u001b]8;id=420220;file://c:\\Users\\gavin\\anaconda3\\envs\\sam-kedro\\lib\\site-packages\\kedro\\io\\data_catalog.py\u001b\\\u001b[2mdata_catalog.py\u001b[0m\u001b]8;;\u001b\\\u001b[2m:\u001b[0m\u001b]8;id=956328;file://c:\\Users\\gavin\\anaconda3\\envs\\sam-kedro\\lib\\site-packages\\kedro\\io\\data_catalog.py#389\u001b\\\u001b[2m389\u001b[0m\u001b]8;;\u001b\\\n"
      ]
     },
     "metadata": {},
     "output_type": "display_data"
    },
    {
     "data": {
      "text/html": [
       "<pre style=\"white-space:pre;overflow-x:auto;line-height:normal;font-family:Menlo,'DejaVu Sans Mono',consolas,'Courier New',monospace\"><span style=\"color: #7fbfbf; text-decoration-color: #7fbfbf\">                    </span><span style=\"color: #000080; text-decoration-color: #000080\">INFO    </span> Loading data from <span style=\"color: #ff8700; text-decoration-color: #ff8700\">paa_12_label</span> <span style=\"font-weight: bold\">(</span>JSONDataset<span style=\"font-weight: bold\">)</span><span style=\"color: #808000; text-decoration-color: #808000\">...</span>                    <a href=\"file://c:\\Users\\gavin\\anaconda3\\envs\\sam-kedro\\lib\\site-packages\\kedro\\io\\data_catalog.py\" target=\"_blank\"><span style=\"color: #7f7f7f; text-decoration-color: #7f7f7f\">data_catalog.py</span></a><span style=\"color: #7f7f7f; text-decoration-color: #7f7f7f\">:</span><a href=\"file://c:\\Users\\gavin\\anaconda3\\envs\\sam-kedro\\lib\\site-packages\\kedro\\io\\data_catalog.py#389\" target=\"_blank\"><span style=\"color: #7f7f7f; text-decoration-color: #7f7f7f\">389</span></a>\n",
       "</pre>\n"
      ],
      "text/plain": [
       "\u001b[2;36m                   \u001b[0m\u001b[2;36m \u001b[0m\u001b[34mINFO    \u001b[0m Loading data from \u001b[38;5;208mpaa_12_label\u001b[0m \u001b[1m(\u001b[0mJSONDataset\u001b[1m)\u001b[0m\u001b[33m...\u001b[0m                    \u001b]8;id=466878;file://c:\\Users\\gavin\\anaconda3\\envs\\sam-kedro\\lib\\site-packages\\kedro\\io\\data_catalog.py\u001b\\\u001b[2mdata_catalog.py\u001b[0m\u001b]8;;\u001b\\\u001b[2m:\u001b[0m\u001b]8;id=996900;file://c:\\Users\\gavin\\anaconda3\\envs\\sam-kedro\\lib\\site-packages\\kedro\\io\\data_catalog.py#389\u001b\\\u001b[2m389\u001b[0m\u001b]8;;\u001b\\\n"
      ]
     },
     "metadata": {},
     "output_type": "display_data"
    },
    {
     "data": {
      "text/html": [
       "<pre style=\"white-space:pre;overflow-x:auto;line-height:normal;font-family:Menlo,'DejaVu Sans Mono',consolas,'Courier New',monospace\"><span style=\"color: #7fbfbf; text-decoration-color: #7fbfbf\">                    </span><span style=\"color: #000080; text-decoration-color: #000080\">INFO    </span> Loading data from <span style=\"color: #ff8700; text-decoration-color: #ff8700\">paa_12_roi</span> <span style=\"font-weight: bold\">(</span>CSVDataset<span style=\"font-weight: bold\">)</span><span style=\"color: #808000; text-decoration-color: #808000\">...</span>                       <a href=\"file://c:\\Users\\gavin\\anaconda3\\envs\\sam-kedro\\lib\\site-packages\\kedro\\io\\data_catalog.py\" target=\"_blank\"><span style=\"color: #7f7f7f; text-decoration-color: #7f7f7f\">data_catalog.py</span></a><span style=\"color: #7f7f7f; text-decoration-color: #7f7f7f\">:</span><a href=\"file://c:\\Users\\gavin\\anaconda3\\envs\\sam-kedro\\lib\\site-packages\\kedro\\io\\data_catalog.py#389\" target=\"_blank\"><span style=\"color: #7f7f7f; text-decoration-color: #7f7f7f\">389</span></a>\n",
       "</pre>\n"
      ],
      "text/plain": [
       "\u001b[2;36m                   \u001b[0m\u001b[2;36m \u001b[0m\u001b[34mINFO    \u001b[0m Loading data from \u001b[38;5;208mpaa_12_roi\u001b[0m \u001b[1m(\u001b[0mCSVDataset\u001b[1m)\u001b[0m\u001b[33m...\u001b[0m                       \u001b]8;id=594380;file://c:\\Users\\gavin\\anaconda3\\envs\\sam-kedro\\lib\\site-packages\\kedro\\io\\data_catalog.py\u001b\\\u001b[2mdata_catalog.py\u001b[0m\u001b]8;;\u001b\\\u001b[2m:\u001b[0m\u001b]8;id=271170;file://c:\\Users\\gavin\\anaconda3\\envs\\sam-kedro\\lib\\site-packages\\kedro\\io\\data_catalog.py#389\u001b\\\u001b[2m389\u001b[0m\u001b]8;;\u001b\\\n"
      ]
     },
     "metadata": {},
     "output_type": "display_data"
    },
    {
     "name": "stdout",
     "output_type": "stream",
     "text": [
      "201\n",
      "30\n"
     ]
    }
   ],
   "source": [
    "from kedro.io import DataCatalog\n",
    "import yaml\n",
    "import logging\n",
    "\n",
    "logger = logging.getLogger(__name__)\n",
    "\n",
    "with open(\"catalog.yml\") as f:\n",
    "    conf_catalog = yaml.safe_load(f)\n",
    "\n",
    "catalog = DataCatalog.from_config(conf_catalog)\n",
    "\n",
    "with open(\"parameters.yml\", encoding=\"utf-8\") as yaml_file:\n",
    "    params = yaml.safe_load(yaml_file)\n",
    "\n",
    "paa_image = catalog.load(\"paa_12_image\")\n",
    "paa_label = catalog.load(\"paa_12_label\")\n",
    "paa_roi = catalog.load(\"paa_12_roi\")\n",
    "\n",
    "epochs = params[\"tune_sam\"][\"epochs\"]\n",
    "print(len(paa_image))\n",
    "print(epochs)"
   ]
  },
  {
   "cell_type": "markdown",
   "metadata": {},
   "source": [
    "# Data Preprocessing: Label and Image Pairing"
   ]
  },
  {
   "cell_type": "markdown",
   "metadata": {},
   "source": [
    "## Label contstruction from JSON"
   ]
  },
  {
   "cell_type": "code",
   "execution_count": 117,
   "metadata": {},
   "outputs": [
    {
     "name": "stdout",
     "output_type": "stream",
     "text": [
      "193\n"
     ]
    }
   ],
   "source": [
    "# from datasets import load_dataset\n",
    "# dataset = load_dataset(\"nielsr/breast-cancer\", split=\"train\")\n",
    "from utils.parse_label_json import LabelParser\n",
    "from typing import List, Dict\n",
    "import numpy as np\n",
    "\n",
    "def prepare_masks(label_json: List[Dict]) -> Dict[str, np.ndarray]:\n",
    "    masks = LabelParser.parse_json(label_json)\n",
    "    \n",
    "    # Debug first mask\n",
    "    sample_key = list(masks.keys())[0]\n",
    "    sample_mask = masks[sample_key]\n",
    "    logger.info(f\"Sample mask shape: {sample_mask.shape}\")\n",
    "    logger.info(f\"Sample mask unique values: {np.unique(sample_mask)}\")\n",
    "    logger.info(f\"Sample mask min/max: {sample_mask.min()}, {sample_mask.max()}\")\n",
    "    \n",
    "    logger.info(f\"Prepared {len(masks)} masks from Label Studio JSON\")\n",
    "    logger.info(f\"Sample keys of masks: {list(masks.keys())[:5]}\")\n",
    "    \n",
    "    return masks\n",
    "\n",
    "masks = prepare_masks(paa_label)\n",
    "print(len(masks))"
   ]
  },
  {
   "cell_type": "markdown",
   "metadata": {},
   "source": [
    "## Image and Label Pairing"
   ]
  },
  {
   "cell_type": "code",
   "execution_count": 118,
   "metadata": {},
   "outputs": [],
   "source": [
    "from typing import Callable, Any\n",
    "import re\n",
    "import pandas as pd\n",
    "from sklearn.model_selection import train_test_split\n",
    "from PIL import Image\n",
    "\n",
    "def prepare_training_data(\n",
    "    images: Dict[str, Callable[[], Image.Image]],\n",
    "    masks: Dict[str, np.ndarray],\n",
    "    params: Dict[str, Any],\n",
    "    roi: pd.DataFrame,\n",
    ") -> Dict[str, Any]:\n",
    "    \"\"\"Prepare images and masks for SAM fine-tuning.\"\"\"\n",
    "    val_split = params.get('val_split', 0.2)\n",
    "    random_seed = params.get('random_seed', 42)\n",
    "    \n",
    "    # Create a mapping of standardized keys\n",
    "    standardized_images = {\n",
    "        re.sub(r'image_', '', key): value\n",
    "        for key, value in images.items()\n",
    "    }\n",
    "\n",
    "    # Get sorted list of common keys\n",
    "    common_keys = sorted(set(standardized_images.keys()) & set(masks.keys()), key=int)\n",
    "    logger.info(f\"Number of matched pairs: {len(common_keys)}\")\n",
    "\n",
    "    # Create matched arrays\n",
    "    image_dict = {}\n",
    "    mask_dict = {}\n",
    "\n",
    "    for key in common_keys:\n",
    "        image = np.array(standardized_images[key]().convert('RGB'))\n",
    "        mask = masks[key]\n",
    "        image_dict[key] = image\n",
    "        mask_dict[key] = mask\n",
    "\n",
    "    # Split the keys for train/val\n",
    "    train_keys, val_keys = train_test_split(\n",
    "        common_keys,\n",
    "        test_size=val_split,\n",
    "        random_state=random_seed\n",
    "    )\n",
    "\n",
    "    # Create train/val dictionaries\n",
    "    train_images = {k: image_dict[k] for k in train_keys}\n",
    "    train_masks = {k: mask_dict[k] for k in train_keys}\n",
    "    val_images = {k: image_dict[k] for k in val_keys}\n",
    "    val_masks = {k: mask_dict[k] for k in val_keys}\n",
    "\n",
    "    # Extract ROI coordinates\n",
    "    sample_image = list(image_dict.values())[0]\n",
    "    box_prompt = np.array([\n",
    "        max(0, roi['x'].iloc[0]),\n",
    "        max(0, roi['y'].iloc[0]),\n",
    "        min(sample_image.shape[1], roi['x'].iloc[0] + roi['width'].iloc[0]),\n",
    "        min(sample_image.shape[0], roi['y'].iloc[0] + roi['height'].iloc[0])\n",
    "    ])\n",
    "    \n",
    "    logger.info(f\"Box prompt coordinates: {box_prompt}\")\n",
    "\n",
    "    return {\n",
    "        'train': {\n",
    "            'images': train_images,\n",
    "            'masks': train_masks,\n",
    "            'box_prompt': box_prompt\n",
    "        },\n",
    "        'val': {\n",
    "            'images': val_images,\n",
    "            'masks': val_masks,\n",
    "            'box_prompt': box_prompt\n",
    "        }\n",
    "    }\n",
    "\n",
    "training_data = prepare_training_data(paa_image, masks, params, paa_roi)\n"
   ]
  },
  {
   "cell_type": "code",
   "execution_count": 119,
   "metadata": {},
   "outputs": [
    {
     "data": {
      "text/html": [
       "<pre style=\"white-space:pre;overflow-x:auto;line-height:normal;font-family:Menlo,'DejaVu Sans Mono',consolas,'Courier New',monospace\"></pre>\n"
      ],
      "text/plain": []
     },
     "metadata": {},
     "output_type": "display_data"
    },
    {
     "data": {
      "text/plain": [
       "\u001b[1m(\u001b[0m\u001b[1;36m-0.5\u001b[0m, \u001b[1;36m703.5\u001b[0m, \u001b[1;36m199.5\u001b[0m, \u001b[1;36m-0.5\u001b[0m\u001b[1m)\u001b[0m"
      ]
     },
     "execution_count": 119,
     "metadata": {},
     "output_type": "execute_result"
    },
    {
     "data": {
      "text/html": [
       "<pre style=\"white-space:pre;overflow-x:auto;line-height:normal;font-family:Menlo,'DejaVu Sans Mono',consolas,'Courier New',monospace\"></pre>\n"
      ],
      "text/plain": []
     },
     "metadata": {},
     "output_type": "display_data"
    },
    {
     "data": {
      "image/png": "[encoded data removed]",
      "text/plain": [
       "\u001b[1m<\u001b[0m\u001b[1;95mFigure\u001b[0m\u001b[39m size 64\u001b[0m\u001b[1;36m0x480\u001b[0m\u001b[39m with \u001b[0m\u001b[1;36m1\u001b[0m\u001b[39m Axes\u001b[0m\u001b[1m>\u001b[0m"
      ]
     },
     "metadata": {},
     "output_type": "display_data"
    }
   ],
   "source": [
    "import matplotlib.pyplot as plt\n",
    "import numpy as np \n",
    "\n",
    "def show_mask(mask, ax, random_color=False):\n",
    "    if random_color:\n",
    "        color = np.concatenate([np.random.random(3), np.array([0.6])], axis=0)\n",
    "    else:\n",
    "        color = np.array([30/255, 144/255, 255/255, 0.6])\n",
    "    h, w = mask.shape[-2:]\n",
    "    mask_image = mask.reshape(h, w, 1) * color.reshape(1, 1, -1)\n",
    "    ax.imshow(mask_image)\n",
    "\n",
    "# Get the first image from training set\n",
    "train_images = training_data[\"train\"][\"images\"]\n",
    "first_key = list(train_images.keys())[0]  # Get the first key (e.g., '86')\n",
    "image = train_images[first_key]\n",
    "\n",
    "# Get corresponding mask\n",
    "train_masks = training_data[\"train\"][\"masks\"]\n",
    "mask = train_masks[first_key]\n",
    "\n",
    "# Get the box prompt (same for all images)\n",
    "box_prompt = training_data[\"train\"][\"box_prompt\"]\n",
    "\n",
    "# To visualize (using your existing plotting code)\n",
    "fig, ax = plt.subplots()\n",
    "ax.imshow(image)\n",
    "show_mask(mask, ax)\n",
    "ax.axis(\"off\")"
   ]
  },
  {
   "cell_type": "code",
   "execution_count": 120,
   "metadata": {},
   "outputs": [],
   "source": [
    "def get_bounding_box(ground_truth_map):\n",
    "  # get bounding box from mask\n",
    "  y_indices, x_indices = np.where(ground_truth_map > 0)\n",
    "  x_min, x_max = np.min(x_indices), np.max(x_indices)\n",
    "  y_min, y_max = np.min(y_indices), np.max(y_indices)\n",
    "  # add perturbation to bounding box coordinates\n",
    "  H, W = ground_truth_map.shape\n",
    "  x_min = max(0, x_min - np.random.randint(0, 20))\n",
    "  x_max = min(W, x_max + np.random.randint(0, 20))\n",
    "  y_min = max(0, y_min - np.random.randint(0, 20))\n",
    "  y_max = min(H, y_max + np.random.randint(0, 20))\n",
    "  bbox = [x_min, y_min, x_max, y_max]\n",
    "\n",
    "  return bbox"
   ]
  },
  {
   "cell_type": "code",
   "execution_count": 121,
   "metadata": {},
   "outputs": [],
   "source": [
    "from torch.utils.data import Dataset\n",
    "\n",
    "class SAMDataset(Dataset):\n",
    "    def __init__(self, data_dict, processor):\n",
    "        # data_dict should be training_data['train'] or training_data['val']\n",
    "        self.images = data_dict['images']\n",
    "        self.masks = data_dict['masks']\n",
    "        self.box_prompt = data_dict['box_prompt']\n",
    "        self.processor = processor\n",
    "        self.keys = sorted(self.images.keys(), key=int)  # Ensure consistent ordering\n",
    "\n",
    "    def __len__(self):\n",
    "        return len(self.images)\n",
    "\n",
    "    def __getitem__(self, idx):\n",
    "        # Get key for current index\n",
    "        key = self.keys[idx]\n",
    "        \n",
    "        # Get corresponding image and mask\n",
    "        image = self.images[key]\n",
    "        ground_truth_mask = self.masks[key]\n",
    "\n",
    "        # Prepare image and prompt for the model\n",
    "        # Note: box_prompt is now used directly instead of computing it\n",
    "        inputs = self.processor(\n",
    "            image, \n",
    "            input_boxes=[[self.box_prompt.tolist()]], \n",
    "            return_tensors=\"pt\"\n",
    "        )\n",
    "        # Remove batch dimension which the processor adds by default\n",
    "        inputs = {k:v.squeeze(0) for k,v in inputs.items()}\n",
    "\n",
    "        # Resize ground truth mask to 256x256\n",
    "        ground_truth_mask = torch.from_numpy(ground_truth_mask).float()\n",
    "        ground_truth_mask = torch.nn.functional.interpolate(\n",
    "            ground_truth_mask.unsqueeze(0).unsqueeze(0),  # Add batch and channel dims\n",
    "        size=(256, 256),\n",
    "            mode='nearest'\n",
    "        ).squeeze(0).squeeze(0)  # Remove batch and channel dims\n",
    "\n",
    "        # Add ground truth segmentation\n",
    "        inputs[\"ground_truth_mask\"] = ground_truth_mask\n",
    "\n",
    "        return inputs"
   ]
  },
  {
   "cell_type": "code",
   "execution_count": 122,
   "metadata": {},
   "outputs": [],
   "source": [
    "from transformers import SamProcessor\n",
    "\n",
    "processor = SamProcessor.from_pretrained(\"facebook/sam-vit-base\")"
   ]
  },
  {
   "cell_type": "code",
   "execution_count": 123,
   "metadata": {},
   "outputs": [],
   "source": [
    "train_dataset = SAMDataset(data_dict=training_data[\"train\"], processor=processor)"
   ]
  },
  {
   "cell_type": "code",
   "execution_count": 124,
   "metadata": {},
   "outputs": [
    {
     "name": "stdout",
     "output_type": "stream",
     "text": [
      "pixel_values torch.Size([3, 1024, 1024])\n",
      "original_sizes torch.Size([2])\n",
      "reshaped_input_sizes torch.Size([2])\n",
      "input_boxes torch.Size([1, 4])\n",
      "ground_truth_mask torch.Size([256, 256])\n"
     ]
    }
   ],
   "source": [
    "example = train_dataset[0]\n",
    "for k,v in example.items():\n",
    "  print(k,v.shape)"
   ]
  },
  {
   "cell_type": "code",
   "execution_count": 125,
   "metadata": {},
   "outputs": [],
   "source": [
    "from torch.utils.data import DataLoader\n",
    "\n",
    "train_dataloader = DataLoader(train_dataset, batch_size=2, shuffle=True)"
   ]
  },
  {
   "cell_type": "code",
   "execution_count": 126,
   "metadata": {},
   "outputs": [
    {
     "name": "stdout",
     "output_type": "stream",
     "text": [
      "pixel_values torch.Size([2, 3, 1024, 1024])\n",
      "original_sizes torch.Size([2, 2])\n",
      "reshaped_input_sizes torch.Size([2, 2])\n",
      "input_boxes torch.Size([2, 1, 4])\n",
      "ground_truth_mask torch.Size([2, 256, 256])\n"
     ]
    }
   ],
   "source": [
    "batch = next(iter(train_dataloader))\n",
    "for k,v in batch.items():\n",
    "  print(k,v.shape)"
   ]
  },
  {
   "cell_type": "code",
   "execution_count": 127,
   "metadata": {},
   "outputs": [
    {
     "data": {
      "text/html": [
       "<pre style=\"white-space:pre;overflow-x:auto;line-height:normal;font-family:Menlo,'DejaVu Sans Mono',consolas,'Courier New',monospace\"></pre>\n"
      ],
      "text/plain": []
     },
     "metadata": {},
     "output_type": "display_data"
    },
    {
     "data": {
      "text/plain": [
       "\u001b[1;35mtorch.Size\u001b[0m\u001b[1m(\u001b[0m\u001b[1m[\u001b[0m\u001b[1;36m2\u001b[0m, \u001b[1;36m256\u001b[0m, \u001b[1;36m256\u001b[0m\u001b[1m]\u001b[0m\u001b[1m)\u001b[0m"
      ]
     },
     "execution_count": 127,
     "metadata": {},
     "output_type": "execute_result"
    }
   ],
   "source": [
    "batch[\"ground_truth_mask\"].shape"
   ]
  },
  {
   "cell_type": "code",
   "execution_count": 128,
   "metadata": {},
   "outputs": [],
   "source": [
    "from transformers import SamModel \n",
    "\n",
    "model = SamModel.from_pretrained(\"facebook/sam-vit-base\")\n",
    "\n",
    "# make sure we only compute gradients for mask decoder\n",
    "for name, param in model.named_parameters():\n",
    "  if name.startswith(\"vision_encoder\") or name.startswith(\"prompt_encoder\"):\n",
    "    param.requires_grad_(False)"
   ]
  },
  {
   "cell_type": "code",
   "execution_count": 129,
   "metadata": {},
   "outputs": [],
   "source": [
    "from torch.optim import Adam\n",
    "import monai\n",
    "\n",
    "# Note: Hyperparameter tuning could improve performance here\n",
    "optimizer = Adam(model.mask_decoder.parameters(), lr=1e-5, weight_decay=0)\n",
    "\n",
    "seg_loss = monai.losses.DiceCELoss(sigmoid=True, squared_pred=True, reduction='mean')"
   ]
  },
  {
   "cell_type": "code",
   "execution_count": 130,
   "metadata": {},
   "outputs": [],
   "source": [
    "import os\n",
    "# Create reporting directory if it doesn't exist\n",
    "os.makedirs(\"reporting/sam_training\", exist_ok=True)\n",
    "def save_prediction_visualization(image, pred_mask, gt_mask, batch_idx, epoch):\n",
    "    \"\"\"Helper function to save visualization\"\"\"\n",
    "    fig, axes = plt.subplots(1, 3, figsize=(15, 5))\n",
    "    \n",
    "    # Original image - normalize to [0,1] range and convert to correct shape (H,W,C)\n",
    "    image_np = image.cpu().numpy().transpose(1, 2, 0)\n",
    "    image_np = (image_np - image_np.min()) / (image_np.max() - image_np.min())\n",
    "    axes[0].imshow(image_np)\n",
    "    axes[0].set_title('Original Image')\n",
    "    axes[0].axis('off')\n",
    "    \n",
    "    # Predicted mask - convert to binary mask and remove extra dimensions\n",
    "    pred_mask_np = (pred_mask.cpu().sigmoid() > 0.5).numpy().squeeze()  # Remove any extra dimensions\n",
    "    axes[1].imshow(pred_mask_np, cmap='gray')\n",
    "    axes[1].set_title('Predicted Mask')\n",
    "    axes[1].axis('off')\n",
    "    \n",
    "    # Ground truth mask - ensure it's 2D\n",
    "    gt_mask_np = gt_mask.cpu().numpy().squeeze()  # Remove any extra dimensions\n",
    "    axes[2].imshow(gt_mask_np, cmap='gray')\n",
    "    axes[2].set_title('Ground Truth Mask')\n",
    "    axes[2].axis('off')\n",
    "    \n",
    "    plt.tight_layout()\n",
    "    plt.savefig(f'reporting/sam_training/epoch_{epoch}_batch_{batch_idx}.png')\n",
    "    plt.close()"
   ]
  },
  {
   "cell_type": "code",
   "execution_count": 131,
   "metadata": {},
   "outputs": [
    {
     "name": "stderr",
     "output_type": "stream",
     "text": [
      "77it [00:25,  2.98it/s]\n"
     ]
    },
    {
     "name": "stdout",
     "output_type": "stream",
     "text": [
      "EPOCH: 0\n",
      "Mean loss: 0.8344895344275933\n"
     ]
    },
    {
     "name": "stderr",
     "output_type": "stream",
     "text": [
      "77it [00:25,  3.06it/s]\n"
     ]
    },
    {
     "name": "stdout",
     "output_type": "stream",
     "text": [
      "EPOCH: 1\n",
      "Mean loss: 0.5144525777983975\n"
     ]
    },
    {
     "name": "stderr",
     "output_type": "stream",
     "text": [
      "77it [00:25,  3.08it/s]\n"
     ]
    },
    {
     "name": "stdout",
     "output_type": "stream",
     "text": [
      "EPOCH: 2\n",
      "Mean loss: 0.3159185769883069\n"
     ]
    },
    {
     "name": "stderr",
     "output_type": "stream",
     "text": [
      "77it [00:24,  3.08it/s]\n"
     ]
    },
    {
     "name": "stdout",
     "output_type": "stream",
     "text": [
      "EPOCH: 3\n",
      "Mean loss: 0.23620120329516275\n"
     ]
    },
    {
     "name": "stderr",
     "output_type": "stream",
     "text": [
      "30it [00:10,  3.36it/s]"
     ]
    }
   ],
   "source": [
    "from tqdm import tqdm\n",
    "from statistics import mean\n",
    "import torch\n",
    "from torch.nn.functional import threshold, normalize\n",
    "\n",
    "num_epochs = 20\n",
    "\n",
    "device = \"cuda\" if torch.cuda.is_available() else \"cpu\"\n",
    "model.to(device)\n",
    "\n",
    "model.train()\n",
    "for epoch in range(num_epochs):\n",
    "    epoch_losses = []\n",
    "    for batch_idx, batch in tqdm(enumerate(train_dataloader)):\n",
    "      # forward pass\n",
    "      outputs = model(pixel_values=batch[\"pixel_values\"].to(device),\n",
    "                      input_boxes=batch[\"input_boxes\"].to(device),\n",
    "                      multimask_output=False)\n",
    "\n",
    "      # compute loss\n",
    "      predicted_masks = outputs.pred_masks.squeeze(1)\n",
    "      ground_truth_masks = batch[\"ground_truth_mask\"].float().to(device)\n",
    "      loss = seg_loss(predicted_masks, ground_truth_masks.unsqueeze(1))\n",
    "\n",
    "      # backward pass (compute gradients of parameters w.r.t. loss)\n",
    "      optimizer.zero_grad()\n",
    "      loss.backward()\n",
    "\n",
    "      # optimize\n",
    "      optimizer.step()\n",
    "      epoch_losses.append(loss.item())\n",
    "\n",
    "      # Visualize every 10 batches\n",
    "      if batch_idx % 10 == 0:\n",
    "          # Get first image from batch for visualization\n",
    "          save_prediction_visualization(\n",
    "                image=batch[\"pixel_values\"][0],\n",
    "                pred_mask=predicted_masks[0],\n",
    "                gt_mask=ground_truth_masks[0],\n",
    "                batch_idx=batch_idx,\n",
    "                epoch=epoch\n",
    "            )\n",
    "\n",
    "    print(f'EPOCH: {epoch}')\n",
    "    print(f'Mean loss: {mean(epoch_losses)}')"
   ]
  }
 ],
 "metadata": {
  "kernelspec": {
   "display_name": "sam-kedro",
   "language": "python",
   "name": "python3"
  },
  "language_info": {
   "codemirror_mode": {
    "name": "ipython",
    "version": 3
   },
   "file_extension": ".py",
   "mimetype": "text/x-python",
   "name": "python",
   "nbconvert_exporter": "python",
   "pygments_lexer": "ipython3",
   "version": "3.10.15"
  }
 },
 "nbformat": 4,
 "nbformat_minor": 2
}
